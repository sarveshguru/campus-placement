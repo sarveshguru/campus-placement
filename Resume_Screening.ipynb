{
 "cells": [
  {
   "cell_type": "markdown",
   "id": "2c57ce3e",
   "metadata": {},
   "source": [
    "### Resume Screening is a multi labelled classification problem\n",
    "\n",
    "# Importing Libraries"
   ]
  },
  {
   "cell_type": "code",
   "execution_count": 1,
   "id": "7bae0ea2",
   "metadata": {},
   "outputs": [],
   "source": [
    "import pandas as pd\n",
    "import numpy as np\n",
    "import matplotlib.pyplot as plt\n",
    "import seaborn as sns\n",
    "import warnings\n",
    "warnings.simplefilter(\"ignore\")"
   ]
  },
  {
   "cell_type": "code",
   "execution_count": 2,
   "id": "2636d61c",
   "metadata": {},
   "outputs": [],
   "source": [
    "df = pd.read_csv(\"UpdatedResumeDataSet.csv\")"
   ]
  },
  {
   "cell_type": "code",
   "execution_count": 3,
   "id": "0f436072",
   "metadata": {},
   "outputs": [
    {
     "data": {
      "text/html": [
       "<div>\n",
       "<style scoped>\n",
       "    .dataframe tbody tr th:only-of-type {\n",
       "        vertical-align: middle;\n",
       "    }\n",
       "\n",
       "    .dataframe tbody tr th {\n",
       "        vertical-align: top;\n",
       "    }\n",
       "\n",
       "    .dataframe thead th {\n",
       "        text-align: right;\n",
       "    }\n",
       "</style>\n",
       "<table border=\"1\" class=\"dataframe\">\n",
       "  <thead>\n",
       "    <tr style=\"text-align: right;\">\n",
       "      <th></th>\n",
       "      <th>Category</th>\n",
       "      <th>Resume</th>\n",
       "    </tr>\n",
       "  </thead>\n",
       "  <tbody>\n",
       "    <tr>\n",
       "      <th>0</th>\n",
       "      <td>Data Science</td>\n",
       "      <td>Skills * Programming Languages: Python (pandas...</td>\n",
       "    </tr>\n",
       "    <tr>\n",
       "      <th>1</th>\n",
       "      <td>Data Science</td>\n",
       "      <td>Education Details \\r\\nMay 2013 to May 2017 B.E...</td>\n",
       "    </tr>\n",
       "    <tr>\n",
       "      <th>2</th>\n",
       "      <td>Data Science</td>\n",
       "      <td>Areas of Interest Deep Learning, Control Syste...</td>\n",
       "    </tr>\n",
       "    <tr>\n",
       "      <th>3</th>\n",
       "      <td>Data Science</td>\n",
       "      <td>Skills â¢ R â¢ Python â¢ SAP HANA â¢ Table...</td>\n",
       "    </tr>\n",
       "    <tr>\n",
       "      <th>4</th>\n",
       "      <td>Data Science</td>\n",
       "      <td>Education Details \\r\\n MCA   YMCAUST,  Faridab...</td>\n",
       "    </tr>\n",
       "  </tbody>\n",
       "</table>\n",
       "</div>"
      ],
      "text/plain": [
       "       Category                                             Resume\n",
       "0  Data Science  Skills * Programming Languages: Python (pandas...\n",
       "1  Data Science  Education Details \\r\\nMay 2013 to May 2017 B.E...\n",
       "2  Data Science  Areas of Interest Deep Learning, Control Syste...\n",
       "3  Data Science  Skills â¢ R â¢ Python â¢ SAP HANA â¢ Table...\n",
       "4  Data Science  Education Details \\r\\n MCA   YMCAUST,  Faridab..."
      ]
     },
     "execution_count": 3,
     "metadata": {},
     "output_type": "execute_result"
    }
   ],
   "source": [
    "df.head()"
   ]
  },
  {
   "cell_type": "code",
   "execution_count": 4,
   "id": "d5da9e7f",
   "metadata": {},
   "outputs": [
    {
     "data": {
      "text/plain": [
       "(962, 2)"
      ]
     },
     "execution_count": 4,
     "metadata": {},
     "output_type": "execute_result"
    }
   ],
   "source": [
    "df.shape"
   ]
  },
  {
   "cell_type": "markdown",
   "id": "aa2ed47a",
   "metadata": {},
   "source": [
    "# Exploring Categories"
   ]
  },
  {
   "cell_type": "code",
   "execution_count": 5,
   "id": "522a6c6d",
   "metadata": {},
   "outputs": [
    {
     "data": {
      "text/plain": [
       "Java Developer               84\n",
       "Testing                      70\n",
       "DevOps Engineer              55\n",
       "Python Developer             48\n",
       "Web Designing                45\n",
       "HR                           44\n",
       "Hadoop                       42\n",
       "Blockchain                   40\n",
       "ETL Developer                40\n",
       "Operations Manager           40\n",
       "Data Science                 40\n",
       "Sales                        40\n",
       "Mechanical Engineer          40\n",
       "Arts                         36\n",
       "Database                     33\n",
       "Electrical Engineering       30\n",
       "Health and fitness           30\n",
       "PMO                          30\n",
       "Business Analyst             28\n",
       "DotNet Developer             28\n",
       "Automation Testing           26\n",
       "Network Security Engineer    25\n",
       "SAP Developer                24\n",
       "Civil Engineer               24\n",
       "Advocate                     20\n",
       "Name: Category, dtype: int64"
      ]
     },
     "execution_count": 5,
     "metadata": {},
     "output_type": "execute_result"
    }
   ],
   "source": [
    "df['Category'].value_counts()"
   ]
  },
  {
   "cell_type": "code",
   "execution_count": 6,
   "id": "ff20d85a",
   "metadata": {},
   "outputs": [
    {
     "data": {
      "image/png": "[encoded data removed]",
      "text/plain": [
       "<Figure size 1080x576 with 1 Axes>"
      ]
     },
     "metadata": {
      "needs_background": "light"
     },
     "output_type": "display_data"
    }
   ],
   "source": [
    "plt.figure(figsize=(15,8))\n",
    "sns.countplot(x = df[\"Category\"])\n",
    "plt.xticks(rotation=90)\n",
    "plt.show()"
   ]
  },
  {
   "cell_type": "code",
   "execution_count": 7,
   "id": "fb1135d5",
   "metadata": {},
   "outputs": [
    {
     "data": {
      "text/plain": [
       "array(['Data Science', 'HR', 'Advocate', 'Arts', 'Web Designing',\n",
       "       'Mechanical Engineer', 'Sales', 'Health and fitness',\n",
       "       'Civil Engineer', 'Java Developer', 'Business Analyst',\n",
       "       'SAP Developer', 'Automation Testing', 'Electrical Engineering',\n",
       "       'Operations Manager', 'Python Developer', 'DevOps Engineer',\n",
       "       'Network Security Engineer', 'PMO', 'Database', 'Hadoop',\n",
       "       'ETL Developer', 'DotNet Developer', 'Blockchain', 'Testing'],\n",
       "      dtype=object)"
      ]
     },
     "execution_count": 7,
     "metadata": {},
     "output_type": "execute_result"
    }
   ],
   "source": [
    "df['Category'].unique()"
   ]
  },
  {
   "cell_type": "code",
   "execution_count": 8,
   "id": "bca2cb37",
   "metadata": {},
   "outputs": [
    {
     "data": {
      "image/png": "[encoded data removed]",
      "text/plain": [
       "<Figure size 864x576 with 1 Axes>"
      ]
     },
     "metadata": {},
     "output_type": "display_data"
    }
   ],
   "source": [
    "counts = df['Category'].value_counts()\n",
    "labels = df['Category'].unique()\n",
    "plt.figure(figsize=(12,8))\n",
    "plt.pie(counts,labels=labels,autopct='%1.1f%%',shadow=True)\n",
    "plt.show()"
   ]
  },
  {
   "cell_type": "markdown",
   "id": "92829b40",
   "metadata": {},
   "source": [
    "# Exploring Resume"
   ]
  },
  {
   "cell_type": "code",
   "execution_count": 9,
   "id": "dac2b43e",
   "metadata": {},
   "outputs": [
    {
     "data": {
      "text/plain": [
       "'Data Science'"
      ]
     },
     "execution_count": 9,
     "metadata": {},
     "output_type": "execute_result"
    }
   ],
   "source": [
    "df['Category'][0]"
   ]
  },
  {
   "cell_type": "code",
   "execution_count": 10,
   "id": "974dd93c",
   "metadata": {},
   "outputs": [
    {
     "data": {
      "text/plain": [
       "'Skills * Programming Languages: Python (pandas, numpy, scipy, scikit-learn, matplotlib), Sql, Java, JavaScript/JQuery. * Machine learning: Regression, SVM, NaÃ¯ve Bayes, KNN, Random Forest, Decision Trees, Boosting techniques, Cluster Analysis, Word Embedding, Sentiment Analysis, Natural Language processing, Dimensionality reduction, Topic Modelling (LDA, NMF), PCA & Neural Nets. * Database Visualizations: Mysql, SqlServer, Cassandra, Hbase, ElasticSearch D3.js, DC.js, Plotly, kibana, matplotlib, ggplot, Tableau. * Others: Regular Expression, HTML, CSS, Angular 6, Logstash, Kafka, Python Flask, Git, Docker, computer vision - Open CV and understanding of Deep learning.Education Details \\r\\n\\r\\nData Science Assurance Associate \\r\\n\\r\\nData Science Assurance Associate - Ernst & Young LLP\\r\\nSkill Details \\r\\nJAVASCRIPT- Exprience - 24 months\\r\\njQuery- Exprience - 24 months\\r\\nPython- Exprience - 24 monthsCompany Details \\r\\ncompany - Ernst & Young LLP\\r\\ndescription - Fraud Investigations and Dispute Services   Assurance\\r\\nTECHNOLOGY ASSISTED REVIEW\\r\\nTAR (Technology Assisted Review) assists in accelerating the review process and run analytics and generate reports.\\r\\n* Core member of a team helped in developing automated review platform tool from scratch for assisting E discovery domain, this tool implements predictive coding and topic modelling by automating reviews, resulting in reduced labor costs and time spent during the lawyers review.\\r\\n* Understand the end to end flow of the solution, doing research and development for classification models, predictive analysis and mining of the information present in text data. Worked on analyzing the outputs and precision monitoring for the entire tool.\\r\\n* TAR assists in predictive coding, topic modelling from the evidence by following EY standards. Developed the classifier models in order to identify \"red flags\" and fraud-related issues.\\r\\n\\r\\nTools & Technologies: Python, scikit-learn, tfidf, word2vec, doc2vec, cosine similarity, NaÃ¯ve Bayes, LDA, NMF for topic modelling, Vader and text blob for sentiment analysis. Matplot lib, Tableau dashboard for reporting.\\r\\n\\r\\nMULTIPLE DATA SCIENCE AND ANALYTIC PROJECTS (USA CLIENTS)\\r\\nTEXT ANALYTICS - MOTOR VEHICLE CUSTOMER REVIEW DATA * Received customer feedback survey data for past one year. Performed sentiment (Positive, Negative & Neutral) and time series analysis on customer comments across all 4 categories.\\r\\n* Created heat map of terms by survey category based on frequency of words * Extracted Positive and Negative words across all the Survey categories and plotted Word cloud.\\r\\n* Created customized tableau dashboards for effective reporting and visualizations.\\r\\nCHATBOT * Developed a user friendly chatbot for one of our Products which handle simple questions about hours of operation, reservation options and so on.\\r\\n* This chat bot serves entire product related questions. Giving overview of tool via QA platform and also give recommendation responses so that user question to build chain of relevant answer.\\r\\n* This too has intelligence to build the pipeline of questions as per user requirement and asks the relevant /recommended questions.\\r\\n\\r\\nTools & Technologies: Python, Natural language processing, NLTK, spacy, topic modelling, Sentiment analysis, Word Embedding, scikit-learn, JavaScript/JQuery, SqlServer\\r\\n\\r\\nINFORMATION GOVERNANCE\\r\\nOrganizations to make informed decisions about all of the information they store. The integrated Information Governance portfolio synthesizes intelligence across unstructured data sources and facilitates action to ensure organizations are best positioned to counter information risk.\\r\\n* Scan data from multiple sources of formats and parse different file formats, extract Meta data information, push results for indexing elastic search and created customized, interactive dashboards using kibana.\\r\\n* Preforming ROT Analysis on the data which give information of data which helps identify content that is either Redundant, Outdated, or Trivial.\\r\\n* Preforming full-text search analysis on elastic search with predefined methods which can tag as (PII) personally identifiable information (social security numbers, addresses, names, etc.) which frequently targeted during cyber-attacks.\\r\\nTools & Technologies: Python, Flask, Elastic Search, Kibana\\r\\n\\r\\nFRAUD ANALYTIC PLATFORM\\r\\nFraud Analytics and investigative platform to review all red flag cases.\\r\\nâ\\x80¢ FAP is a Fraud Analytics and investigative platform with inbuilt case manager and suite of Analytics for various ERP systems.\\r\\n* It can be used by clients to interrogate their Accounting systems for identifying the anomalies which can be indicators of fraud by running advanced analytics\\r\\nTools & Technologies: HTML, JavaScript, SqlServer, JQuery, CSS, Bootstrap, Node.js, D3.js, DC.js'"
      ]
     },
     "execution_count": 10,
     "metadata": {},
     "output_type": "execute_result"
    }
   ],
   "source": [
    "df['Resume'][0]"
   ]
  },
  {
   "cell_type": "markdown",
   "id": "14a8b590",
   "metadata": {},
   "source": [
    "# Cleaning Data\n",
    "\n",
    "1. URLs\n",
    "2. Hashtags\n",
    "3. Mentions\n",
    "4. Special Letters\n",
    "5. Puntuations"
   ]
  },
  {
   "cell_type": "code",
   "execution_count": 11,
   "id": "7f189c0a",
   "metadata": {},
   "outputs": [],
   "source": [
    "import re\n",
    "def CleanResume(txt):\n",
    "    cleantxt = re.sub('http\\S+\\s', ' ', txt)\n",
    "    cleantxt = re.sub('RT|cc', ' ', cleantxt)\n",
    "    cleantxt = re.sub('#\\S+\\s', ' ', cleantxt)\n",
    "    cleantxt = re.sub('@\\S+', ' ', cleantxt)\n",
    "    cleantxt = re.sub('[%s]' % re.escape(\"\"\"!\"#$%&'()*+,-./:;<=>?@[\\]^_`{|}~\"\"\"), '', cleantxt)\n",
    "    cleantxt = re.sub(r'[^\\x00-\\x7f]', ' ', cleantxt)\n",
    "    cleantxt = re.sub('\\s+', ' ', cleantxt)\n",
    "    return cleantxt"
   ]
  },
  {
   "cell_type": "code",
   "execution_count": 12,
   "id": "d68d2be7",
   "metadata": {},
   "outputs": [],
   "source": [
    "df['UpdatedResume'] = df['Resume'].apply(lambda x: CleanResume(x))"
   ]
  },
  {
   "cell_type": "code",
   "execution_count": 13,
   "id": "31ee88ad",
   "metadata": {},
   "outputs": [
    {
     "data": {
      "text/plain": [
       "'Skills Programming Languages Python pandas numpy scipy scikitlearn matplotlib Sql Java JavaScriptJQuery Machine learning Regression SVM Na ve Bayes KNN Random Forest Decision Trees Boosting techniques Cluster Analysis Word Embedding Sentiment Analysis Natural Language processing Dimensionality reduction Topic Modelling LDA NMF PCA Neural Nets Database Visualizations Mysql SqlServer Cassandra Hbase ElasticSearch D3js DCjs Plotly kibana matplotlib ggplot Tableau Others Regular Expression HTML CSS Angular 6 Logstash Kafka Python Flask Git Docker computer vision Open CV and understanding of Deep learningEducation Details Data Science Assurance Associate Data Science Assurance Associate Ernst Young LLP Skill Details JAVASCRIPT Exprience 24 months jQuery Exprience 24 months Python Exprience 24 monthsCompany Details company Ernst Young LLP description Fraud Investigations and Dispute Services Assurance TECHNOLOGY ASSISTED REVIEW TAR Technology Assisted Review assists in a elerating the review process and run analytics and generate reports Core member of a team helped in developing automated review platform tool from scratch for assisting E discovery domain this tool implements predictive coding and topic modelling by automating reviews resulting in reduced labor costs and time spent during the lawyers review Understand the end to end flow of the solution doing research and development for classification models predictive analysis and mining of the information present in text data Worked on analyzing the outputs and precision monitoring for the entire tool TAR assists in predictive coding topic modelling from the evidence by following EY standards Developed the classifier models in order to identify red flags and fraudrelated issues Tools Technologies Python scikitlearn tfidf word2vec doc2vec cosine similarity Na ve Bayes LDA NMF for topic modelling Vader and text blob for sentiment analysis Matplot lib Tableau dashboard for reporting MULTIPLE DATA SCIENCE AND ANALYTIC PROJECTS USA CLIENTS TEXT ANALYTICS MOTOR VEHICLE CUSTOMER REVIEW DATA Received customer feedback survey data for past one year Performed sentiment Positive Negative Neutral and time series analysis on customer comments across all 4 categories Created heat map of terms by survey category based on frequency of words Extracted Positive and Negative words across all the Survey categories and plotted Word cloud Created customized tableau dashboards for effective reporting and visualizations CHATBOT Developed a user friendly chatbot for one of our Products which handle simple questions about hours of operation reservation options and so on This chat bot serves entire product related questions Giving overview of tool via QA platform and also give recommendation responses so that user question to build chain of relevant answer This too has intelligence to build the pipeline of questions as per user requirement and asks the relevant recommended questions Tools Technologies Python Natural language processing NLTK spacy topic modelling Sentiment analysis Word Embedding scikitlearn JavaScriptJQuery SqlServer INFORMATION GOVERNANCE Organizations to make informed decisions about all of the information they store The integrated Information Governance portfolio synthesizes intelligence across unstructured data sources and facilitates action to ensure organizations are best positioned to counter information risk Scan data from multiple sources of formats and parse different file formats extract Meta data information push results for indexing elastic search and created customized interactive dashboards using kibana Preforming ROT Analysis on the data which give information of data which helps identify content that is either Redundant Outdated or Trivial Preforming fulltext search analysis on elastic search with predefined methods which can tag as PII personally identifiable information social security numbers addresses names etc which frequently targeted during cyberattacks Tools Technologies Python Flask Elastic Search Kibana FRAUD ANALYTIC PLATFORM Fraud Analytics and investigative platform to review all red flag cases FAP is a Fraud Analytics and investigative platform with inbuilt case manager and suite of Analytics for various ERP systems It can be used by clients to interrogate their A ounting systems for identifying the anomalies which can be indicators of fraud by running advanced analytics Tools Technologies HTML JavaScript SqlServer JQuery CSS Bootstrap Nodejs D3js DCjs'"
      ]
     },
     "execution_count": 13,
     "metadata": {},
     "output_type": "execute_result"
    }
   ],
   "source": [
    "df['UpdatedResume'][0]"
   ]
  },
  {
   "cell_type": "code",
   "execution_count": 14,
   "id": "f1293d7a",
   "metadata": {},
   "outputs": [
    {
     "data": {
      "text/html": [
       "<div>\n",
       "<style scoped>\n",
       "    .dataframe tbody tr th:only-of-type {\n",
       "        vertical-align: middle;\n",
       "    }\n",
       "\n",
       "    .dataframe tbody tr th {\n",
       "        vertical-align: top;\n",
       "    }\n",
       "\n",
       "    .dataframe thead th {\n",
       "        text-align: right;\n",
       "    }\n",
       "</style>\n",
       "<table border=\"1\" class=\"dataframe\">\n",
       "  <thead>\n",
       "    <tr style=\"text-align: right;\">\n",
       "      <th></th>\n",
       "      <th>Category</th>\n",
       "      <th>Resume</th>\n",
       "      <th>UpdatedResume</th>\n",
       "    </tr>\n",
       "  </thead>\n",
       "  <tbody>\n",
       "    <tr>\n",
       "      <th>0</th>\n",
       "      <td>Data Science</td>\n",
       "      <td>Skills * Programming Languages: Python (pandas...</td>\n",
       "      <td>Skills Programming Languages Python pandas num...</td>\n",
       "    </tr>\n",
       "    <tr>\n",
       "      <th>1</th>\n",
       "      <td>Data Science</td>\n",
       "      <td>Education Details \\r\\nMay 2013 to May 2017 B.E...</td>\n",
       "      <td>Education Details May 2013 to May 2017 BE UITR...</td>\n",
       "    </tr>\n",
       "    <tr>\n",
       "      <th>2</th>\n",
       "      <td>Data Science</td>\n",
       "      <td>Areas of Interest Deep Learning, Control Syste...</td>\n",
       "      <td>Areas of Interest Deep Learning Control System...</td>\n",
       "    </tr>\n",
       "    <tr>\n",
       "      <th>3</th>\n",
       "      <td>Data Science</td>\n",
       "      <td>Skills â¢ R â¢ Python â¢ SAP HANA â¢ Table...</td>\n",
       "      <td>Skills R Python SAP HANA Tableau SAP HANA SQL ...</td>\n",
       "    </tr>\n",
       "    <tr>\n",
       "      <th>4</th>\n",
       "      <td>Data Science</td>\n",
       "      <td>Education Details \\r\\n MCA   YMCAUST,  Faridab...</td>\n",
       "      <td>Education Details MCA YMCAUST Faridabad Haryan...</td>\n",
       "    </tr>\n",
       "  </tbody>\n",
       "</table>\n",
       "</div>"
      ],
      "text/plain": [
       "       Category                                             Resume  \\\n",
       "0  Data Science  Skills * Programming Languages: Python (pandas...   \n",
       "1  Data Science  Education Details \\r\\nMay 2013 to May 2017 B.E...   \n",
       "2  Data Science  Areas of Interest Deep Learning, Control Syste...   \n",
       "3  Data Science  Skills â¢ R â¢ Python â¢ SAP HANA â¢ Table...   \n",
       "4  Data Science  Education Details \\r\\n MCA   YMCAUST,  Faridab...   \n",
       "\n",
       "                                       UpdatedResume  \n",
       "0  Skills Programming Languages Python pandas num...  \n",
       "1  Education Details May 2013 to May 2017 BE UITR...  \n",
       "2  Areas of Interest Deep Learning Control System...  \n",
       "3  Skills R Python SAP HANA Tableau SAP HANA SQL ...  \n",
       "4  Education Details MCA YMCAUST Faridabad Haryan...  "
      ]
     },
     "execution_count": 14,
     "metadata": {},
     "output_type": "execute_result"
    }
   ],
   "source": [
    "df.head()"
   ]
  },
  {
   "cell_type": "markdown",
   "id": "3d62fed3",
   "metadata": {},
   "source": [
    "# Convert Categorical Values into Numerical"
   ]
  },
  {
   "cell_type": "code",
   "execution_count": 15,
   "id": "1ff03d2d",
   "metadata": {},
   "outputs": [],
   "source": [
    "from sklearn.preprocessing import LabelEncoder\n",
    "le = LabelEncoder()"
   ]
  },
  {
   "cell_type": "code",
   "execution_count": 16,
   "id": "cad71115",
   "metadata": {},
   "outputs": [],
   "source": [
    "le.fit(df['Category'])\n",
    "df['Category'] = le.transform(df['Category'])"
   ]
  },
  {
   "cell_type": "code",
   "execution_count": 17,
   "id": "1c999f83",
   "metadata": {},
   "outputs": [
    {
     "data": {
      "text/html": [
       "<div>\n",
       "<style scoped>\n",
       "    .dataframe tbody tr th:only-of-type {\n",
       "        vertical-align: middle;\n",
       "    }\n",
       "\n",
       "    .dataframe tbody tr th {\n",
       "        vertical-align: top;\n",
       "    }\n",
       "\n",
       "    .dataframe thead th {\n",
       "        text-align: right;\n",
       "    }\n",
       "</style>\n",
       "<table border=\"1\" class=\"dataframe\">\n",
       "  <thead>\n",
       "    <tr style=\"text-align: right;\">\n",
       "      <th></th>\n",
       "      <th>Category</th>\n",
       "      <th>Resume</th>\n",
       "      <th>UpdatedResume</th>\n",
       "    </tr>\n",
       "  </thead>\n",
       "  <tbody>\n",
       "    <tr>\n",
       "      <th>0</th>\n",
       "      <td>6</td>\n",
       "      <td>Skills * Programming Languages: Python (pandas...</td>\n",
       "      <td>Skills Programming Languages Python pandas num...</td>\n",
       "    </tr>\n",
       "    <tr>\n",
       "      <th>1</th>\n",
       "      <td>6</td>\n",
       "      <td>Education Details \\r\\nMay 2013 to May 2017 B.E...</td>\n",
       "      <td>Education Details May 2013 to May 2017 BE UITR...</td>\n",
       "    </tr>\n",
       "    <tr>\n",
       "      <th>2</th>\n",
       "      <td>6</td>\n",
       "      <td>Areas of Interest Deep Learning, Control Syste...</td>\n",
       "      <td>Areas of Interest Deep Learning Control System...</td>\n",
       "    </tr>\n",
       "    <tr>\n",
       "      <th>3</th>\n",
       "      <td>6</td>\n",
       "      <td>Skills â¢ R â¢ Python â¢ SAP HANA â¢ Table...</td>\n",
       "      <td>Skills R Python SAP HANA Tableau SAP HANA SQL ...</td>\n",
       "    </tr>\n",
       "    <tr>\n",
       "      <th>4</th>\n",
       "      <td>6</td>\n",
       "      <td>Education Details \\r\\n MCA   YMCAUST,  Faridab...</td>\n",
       "      <td>Education Details MCA YMCAUST Faridabad Haryan...</td>\n",
       "    </tr>\n",
       "  </tbody>\n",
       "</table>\n",
       "</div>"
      ],
      "text/plain": [
       "   Category                                             Resume  \\\n",
       "0         6  Skills * Programming Languages: Python (pandas...   \n",
       "1         6  Education Details \\r\\nMay 2013 to May 2017 B.E...   \n",
       "2         6  Areas of Interest Deep Learning, Control Syste...   \n",
       "3         6  Skills â¢ R â¢ Python â¢ SAP HANA â¢ Table...   \n",
       "4         6  Education Details \\r\\n MCA   YMCAUST,  Faridab...   \n",
       "\n",
       "                                       UpdatedResume  \n",
       "0  Skills Programming Languages Python pandas num...  \n",
       "1  Education Details May 2013 to May 2017 BE UITR...  \n",
       "2  Areas of Interest Deep Learning Control System...  \n",
       "3  Skills R Python SAP HANA Tableau SAP HANA SQL ...  \n",
       "4  Education Details MCA YMCAUST Faridabad Haryan...  "
      ]
     },
     "execution_count": 17,
     "metadata": {},
     "output_type": "execute_result"
    }
   ],
   "source": [
    "df.head()"
   ]
  },
  {
   "cell_type": "code",
   "execution_count": 18,
   "id": "2d445a95",
   "metadata": {},
   "outputs": [],
   "source": [
    "df1 = df.drop(columns = 'Resume')"
   ]
  },
  {
   "cell_type": "code",
   "execution_count": 19,
   "id": "8f0cbb33",
   "metadata": {},
   "outputs": [
    {
     "data": {
      "text/html": [
       "<div>\n",
       "<style scoped>\n",
       "    .dataframe tbody tr th:only-of-type {\n",
       "        vertical-align: middle;\n",
       "    }\n",
       "\n",
       "    .dataframe tbody tr th {\n",
       "        vertical-align: top;\n",
       "    }\n",
       "\n",
       "    .dataframe thead th {\n",
       "        text-align: right;\n",
       "    }\n",
       "</style>\n",
       "<table border=\"1\" class=\"dataframe\">\n",
       "  <thead>\n",
       "    <tr style=\"text-align: right;\">\n",
       "      <th></th>\n",
       "      <th>Category</th>\n",
       "      <th>UpdatedResume</th>\n",
       "    </tr>\n",
       "  </thead>\n",
       "  <tbody>\n",
       "    <tr>\n",
       "      <th>0</th>\n",
       "      <td>6</td>\n",
       "      <td>Skills Programming Languages Python pandas num...</td>\n",
       "    </tr>\n",
       "    <tr>\n",
       "      <th>1</th>\n",
       "      <td>6</td>\n",
       "      <td>Education Details May 2013 to May 2017 BE UITR...</td>\n",
       "    </tr>\n",
       "    <tr>\n",
       "      <th>2</th>\n",
       "      <td>6</td>\n",
       "      <td>Areas of Interest Deep Learning Control System...</td>\n",
       "    </tr>\n",
       "    <tr>\n",
       "      <th>3</th>\n",
       "      <td>6</td>\n",
       "      <td>Skills R Python SAP HANA Tableau SAP HANA SQL ...</td>\n",
       "    </tr>\n",
       "    <tr>\n",
       "      <th>4</th>\n",
       "      <td>6</td>\n",
       "      <td>Education Details MCA YMCAUST Faridabad Haryan...</td>\n",
       "    </tr>\n",
       "  </tbody>\n",
       "</table>\n",
       "</div>"
      ],
      "text/plain": [
       "   Category                                      UpdatedResume\n",
       "0         6  Skills Programming Languages Python pandas num...\n",
       "1         6  Education Details May 2013 to May 2017 BE UITR...\n",
       "2         6  Areas of Interest Deep Learning Control System...\n",
       "3         6  Skills R Python SAP HANA Tableau SAP HANA SQL ...\n",
       "4         6  Education Details MCA YMCAUST Faridabad Haryan..."
      ]
     },
     "execution_count": 19,
     "metadata": {},
     "output_type": "execute_result"
    }
   ],
   "source": [
    "df1.head()"
   ]
  },
  {
   "cell_type": "code",
   "execution_count": 20,
   "id": "1eef0dba",
   "metadata": {
    "scrolled": true
   },
   "outputs": [
    {
     "data": {
      "text/plain": [
       "array([ 6, 12,  0,  1, 24, 16, 22, 14,  5, 15,  4, 21,  2, 11, 18, 20,  8,\n",
       "       17, 19,  7, 13, 10,  9,  3, 23])"
      ]
     },
     "execution_count": 20,
     "metadata": {},
     "output_type": "execute_result"
    }
   ],
   "source": [
    "df1.Category.unique()"
   ]
  },
  {
   "cell_type": "markdown",
   "id": "f5e388a3",
   "metadata": {},
   "source": [
    "0. Advocate\n",
    "1. Arts\n",
    "2. Automation Testing\n",
    "3. Blockchain\n",
    "4. Business Analyst\n",
    "5. Civil Engineer\n",
    "6. Data Science\n",
    "7. Database\n",
    "8. DevOps Engineer\n",
    "9. DotNet Developer\n",
    "11. Electrical Engineering\n",
    "10. ETL Developer\n",
    "13. Hadoop\n",
    "14. Health and Fitness\n",
    "12. HR\n",
    "15. Java Developer\n",
    "16. Mechanical Engineer\n",
    "17. Nework Security Engineer\n",
    "18. Operation Manager\n",
    "19. PMO\n",
    "20. Python Developer\n",
    "22. Sales\n",
    "21. SAP Developer\n",
    "23. Testing\n",
    "24. Web Designing"
   ]
  },
  {
   "cell_type": "markdown",
   "id": "07d18a11",
   "metadata": {},
   "source": [
    "# Vectorization"
   ]
  },
  {
   "cell_type": "code",
   "execution_count": 21,
   "id": "2eacada2",
   "metadata": {},
   "outputs": [],
   "source": [
    "from sklearn.feature_extraction.text import TfidfVectorizer\n",
    "tfidf = TfidfVectorizer(stop_words = 'english')\n",
    "\n",
    "tfidf.fit(df['UpdatedResume'])\n",
    "RequiredTxt = tfidf.transform(df['UpdatedResume'])"
   ]
  },
  {
   "cell_type": "code",
   "execution_count": 22,
   "id": "4a57ffc8",
   "metadata": {},
   "outputs": [
    {
     "data": {
      "text/plain": [
       "<962x7891 sparse matrix of type '<class 'numpy.float64'>'\n",
       "\twith 164494 stored elements in Compressed Sparse Row format>"
      ]
     },
     "execution_count": 22,
     "metadata": {},
     "output_type": "execute_result"
    }
   ],
   "source": [
    "RequiredTxt"
   ]
  },
  {
   "cell_type": "markdown",
   "id": "24350166",
   "metadata": {},
   "source": [
    "# Train Test Split"
   ]
  },
  {
   "cell_type": "code",
   "execution_count": 23,
   "id": "5381fadd",
   "metadata": {},
   "outputs": [],
   "source": [
    "from sklearn.model_selection import train_test_split"
   ]
  },
  {
   "cell_type": "code",
   "execution_count": 24,
   "id": "13682087",
   "metadata": {},
   "outputs": [],
   "source": [
    "X_train, X_test, y_train, y_test = train_test_split(RequiredTxt, df['Category'], test_size = 0.2, random_state = 42)"
   ]
  },
  {
   "cell_type": "code",
   "execution_count": 25,
   "id": "905d0505",
   "metadata": {},
   "outputs": [
    {
     "data": {
      "text/plain": [
       "((769, 7891), (193, 7891))"
      ]
     },
     "execution_count": 25,
     "metadata": {},
     "output_type": "execute_result"
    }
   ],
   "source": [
    "X_train.shape, X_test. shape"
   ]
  },
  {
   "cell_type": "code",
   "execution_count": 26,
   "id": "124f922c",
   "metadata": {},
   "outputs": [
    {
     "data": {
      "text/plain": [
       "((769,), (193,))"
      ]
     },
     "execution_count": 26,
     "metadata": {},
     "output_type": "execute_result"
    }
   ],
   "source": [
    "y_train.shape, y_test.shape"
   ]
  },
  {
   "cell_type": "markdown",
   "id": "d3bc8eaa",
   "metadata": {},
   "source": [
    "# Model Training and Classification Report"
   ]
  },
  {
   "cell_type": "code",
   "execution_count": 27,
   "id": "505505c2",
   "metadata": {},
   "outputs": [
    {
     "name": "stdout",
     "output_type": "stream",
     "text": [
      "[15 15 15 13 14 17 16  2  0 14 13 12 16 23 20  5  6  4 10  9 19  1 10 23\n",
      " 23 21 22 22  2 12 18  1  8 24 11 23  7 12 24  8 18  6  8 19 24 23 21  1\n",
      " 15  4 15 22 11  5 15 13  1 19  5 12 22 22 20 24 21 18 12 10 10 20 10  8\n",
      "  9 21 17 21  0 17 16 14 15 11 11  8 20  3 19  8  0  2  9 10  2 23 20 20\n",
      " 23 12 18 12  7 16  8 14 18  3 14 19 14 14 15 18  8  2 21 18 23 10 23  5\n",
      " 11 15 12  3  5  3  7 12 19  8 20 19  3 15  9 19  1 23 21  5 20 15 16  7\n",
      "  7  8 15 18  1 15 13 20  7  4 18 11  5 15  5 12  9 22 18 21  8 23  4 12\n",
      " 24 16 15 22  8 22  3 16 23 23 12  7 16 18  5  3 18  8 23 23 20 21  6  7\n",
      " 23]\n"
     ]
    }
   ],
   "source": [
    "from sklearn.neighbors import KNeighborsClassifier\n",
    "from sklearn.multiclass import OneVsRestClassifier\n",
    "from sklearn.metrics import accuracy_score\n",
    "\n",
    "KNClf = OneVsRestClassifier(KNeighborsClassifier())\n",
    "KNClf.fit(X_train, y_train)\n",
    "y_pred = KNClf.predict(X_test)\n",
    "print(y_pred)"
   ]
  },
  {
   "cell_type": "code",
   "execution_count": 28,
   "id": "6bd26d6e",
   "metadata": {},
   "outputs": [
    {
     "name": "stdout",
     "output_type": "stream",
     "text": [
      "0.9844559585492227\n"
     ]
    }
   ],
   "source": [
    "print(accuracy_score(y_test, y_pred))"
   ]
  },
  {
   "cell_type": "markdown",
   "id": "657383b7",
   "metadata": {},
   "source": [
    "# Model Prediction"
   ]
  },
  {
   "cell_type": "code",
   "execution_count": 29,
   "id": "62524ac4",
   "metadata": {},
   "outputs": [],
   "source": [
    "import pickle\n",
    "pickle.dump(tfidf, open('tfidf.pkl', 'wb'))\n",
    "pickle.dump(KNClf, open('KNClf.pkl', 'wb'))"
   ]
  },
  {
   "cell_type": "code",
   "execution_count": 30,
   "id": "cdb966ef",
   "metadata": {},
   "outputs": [],
   "source": [
    "myresume = \"\"\"Skills:\n",
    "Programming Languages: Python (NumPy, Pandas, Scikit-Learn), R\n",
    "Data Analysis: Statistical Analysis, Regression Analysis, Hypothesis Testing\n",
    "Machine Learning: Supervised and Unsupervised Learning, Decision Trees, Random Forests, Neural Networks\n",
    "Data Visualization: Matplotlib, Seaborn, Tableau\n",
    "Database Management: SQL\n",
    "Big Data Technologies: Hadoop, Spark\n",
    "Tools: Jupyter Notebooks, Git, Docker\n",
    "Soft Skills: Problem Solving, Communication, Team Collaboration\n",
    "Experience:\n",
    "Data Scientist | [Company Name], [City, State]\n",
    "\n",
    "[Month Year] - Present\n",
    "\n",
    "Conduct exploratory data analysis on large datasets to identify trends and patterns.\n",
    "Develop and implement machine learning models for predictive analytics.\n",
    "Collaborate with cross-functional teams to understand business requirements and provide data-driven insights.\n",
    "Create and maintain data pipelines for efficient data extraction, transformation, and loading (ETL) processes.\n",
    "Present findings and recommendations to both technical and non-technical stakeholders.\n",
    "Data Analyst | [Company Name], [City, State]\n",
    "\n",
    "[Month Year] - [Month Year]\n",
    "\n",
    "Cleaned and processed raw data to ensure accuracy and reliability.\n",
    "Conducted statistical analysis and created visualizations to communicate key insights.\n",
    "Assisted in the development of data-driven strategies for business improvement.\n",
    "Collaborated with IT teams to optimize database queries and improve data accessibility.\n",
    "Projects:\n",
    "Predictive Maintenance Model\n",
    "\n",
    "Developed a machine learning model to predict equipment failures, reducing downtime by 20%.\n",
    "\n",
    "Customer Segmentation Analysis\n",
    "\n",
    "Performed clustering analysis on customer data, leading to targeted marketing strategies and a 15% increase in customer engagement.\n",
    "\n",
    "\"\"\""
   ]
  },
  {
   "cell_type": "code",
   "execution_count": 31,
   "id": "24ad14af",
   "metadata": {},
   "outputs": [
    {
     "name": "stdout",
     "output_type": "stream",
     "text": [
      "Predicted Category:  Data Science\n"
     ]
    }
   ],
   "source": [
    "import pickle\n",
    "\n",
    "# Load the trained classifier\n",
    "KNClf = pickle.load(open('KNClf.pkl', 'rb'))\n",
    "\n",
    "# Clean the input resume\n",
    "cleaned_resume = CleanResume(myresume)\n",
    "\n",
    "# Transform the cleaned resume using the trained Tfidfvectorizer\n",
    "input_features = tfidf.transform([cleaned_resume])\n",
    "\n",
    "# Make the prediction using the loaded classifier\n",
    "prediction_id = KNClf.predict(input_features)[0]\n",
    "\n",
    "# Map category ID to category name\n",
    "category_mapping = {\n",
    "    0: \"Advocate\",\n",
    "    1: \"Arts\",\n",
    "    2: \"Automation Testing\",\n",
    "    3: \"Blockchain\",\n",
    "    4: \"Business Analyst\",\n",
    "    5: \"Civil Engineer\",\n",
    "    6: \"Data Science\",\n",
    "    7: \"Database\",\n",
    "    8: \"DevOps Engineer\",\n",
    "    9: \"DotNet Developer\",\n",
    "    10: \"ETL Developer\",\n",
    "    11: \"Electrical Engineering\",\n",
    "    12: \"HR\",\n",
    "    13: \"Hadoop\",\n",
    "    14: \"Health and Fitness\",\n",
    "    15: \"Java Developer\",\n",
    "    16: \"Mechanical Engineer\",\n",
    "    17: \"Nework Security Engineer\",\n",
    "    18: \"Operation Manager\",\n",
    "    19: \"PMO\",\n",
    "    20: \"Python Developer\",\n",
    "    21: \"SAP Developer\",\n",
    "    22: \"Sales\",\n",
    "    23: \"Testing\",\n",
    "    24: \"Web Designing\"\n",
    "}\n",
    "\n",
    "category_name = category_mapping.get(prediction_id, \"Unknown\")\n",
    "\n",
    "print(\"Predicted Category: \", category_name)"
   ]
  }
 ],
 "metadata": {
  "kernelspec": {
   "display_name": "Python 3 (ipykernel)",
   "language": "python",
   "name": "python3"
  },
  "language_info": {
   "codemirror_mode": {
    "name": "ipython",
    "version": 3
   },
   "file_extension": ".py",
   "mimetype": "text/x-python",
   "name": "python",
   "nbconvert_exporter": "python",
   "pygments_lexer": "ipython3",
   "version": "3.9.5"
  }
 },
 "nbformat": 4,
 "nbformat_minor": 5
}
